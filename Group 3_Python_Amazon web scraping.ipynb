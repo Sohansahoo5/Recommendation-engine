{
 "cells": [
  {
   "cell_type": "code",
   "execution_count": 1,
   "id": "42841729",
   "metadata": {},
   "outputs": [
    {
     "name": "stdout",
     "output_type": "stream",
     "text": [
      "Requirement already satisfied: selenium in c:\\users\\oyo\\anaconda3\\lib\\site-packages (4.12.0)\n",
      "Requirement already satisfied: urllib3[socks]<3,>=1.26 in c:\\users\\oyo\\anaconda3\\lib\\site-packages (from selenium) (1.26.4)\n",
      "Requirement already satisfied: trio-websocket~=0.9 in c:\\users\\oyo\\anaconda3\\lib\\site-packages (from selenium) (0.10.4)\n",
      "Requirement already satisfied: trio~=0.17 in c:\\users\\oyo\\anaconda3\\lib\\site-packages (from selenium) (0.22.2)\n",
      "Requirement already satisfied: certifi>=2021.10.8 in c:\\users\\oyo\\anaconda3\\lib\\site-packages (from selenium) (2023.7.22)\n",
      "Requirement already satisfied: attrs>=20.1.0 in c:\\users\\oyo\\anaconda3\\lib\\site-packages (from trio~=0.17->selenium) (20.3.0)\n",
      "Requirement already satisfied: sniffio in c:\\users\\oyo\\anaconda3\\lib\\site-packages (from trio~=0.17->selenium) (1.2.0)\n",
      "Requirement already satisfied: idna in c:\\users\\oyo\\anaconda3\\lib\\site-packages (from trio~=0.17->selenium) (2.10)\n",
      "Requirement already satisfied: exceptiongroup>=1.0.0rc9 in c:\\users\\oyo\\anaconda3\\lib\\site-packages (from trio~=0.17->selenium) (1.1.3)\n",
      "Requirement already satisfied: sortedcontainers in c:\\users\\oyo\\anaconda3\\lib\\site-packages (from trio~=0.17->selenium) (2.3.0)\n",
      "Requirement already satisfied: outcome in c:\\users\\oyo\\anaconda3\\lib\\site-packages (from trio~=0.17->selenium) (1.2.0)\n",
      "Requirement already satisfied: cffi>=1.14 in c:\\users\\oyo\\anaconda3\\lib\\site-packages (from trio~=0.17->selenium) (1.14.5)\n",
      "Requirement already satisfied: pycparser in c:\\users\\oyo\\anaconda3\\lib\\site-packages (from cffi>=1.14->trio~=0.17->selenium) (2.20)\n",
      "Requirement already satisfied: wsproto>=0.14 in c:\\users\\oyo\\anaconda3\\lib\\site-packages (from trio-websocket~=0.9->selenium) (1.2.0)\n",
      "Requirement already satisfied: PySocks!=1.5.7,<2.0,>=1.5.6 in c:\\users\\oyo\\anaconda3\\lib\\site-packages (from urllib3[socks]<3,>=1.26->selenium) (1.7.1)\n",
      "Requirement already satisfied: h11<1,>=0.9.0 in c:\\users\\oyo\\anaconda3\\lib\\site-packages (from wsproto>=0.14->trio-websocket~=0.9->selenium) (0.14.0)\n",
      "Requirement already satisfied: webdriver_manager in c:\\users\\oyo\\anaconda3\\lib\\site-packages (4.0.0)\n",
      "Requirement already satisfied: packaging in c:\\users\\oyo\\anaconda3\\lib\\site-packages (from webdriver_manager) (20.9)\n",
      "Requirement already satisfied: requests in c:\\users\\oyo\\anaconda3\\lib\\site-packages (from webdriver_manager) (2.31.0)\n",
      "Requirement already satisfied: python-dotenv in c:\\users\\oyo\\anaconda3\\lib\\site-packages (from webdriver_manager) (1.0.0)\n",
      "Requirement already satisfied: pyparsing>=2.0.2 in c:\\users\\oyo\\anaconda3\\lib\\site-packages (from packaging->webdriver_manager) (2.4.7)\n",
      "Requirement already satisfied: urllib3<3,>=1.21.1 in c:\\users\\oyo\\anaconda3\\lib\\site-packages (from requests->webdriver_manager) (1.26.4)\n",
      "Requirement already satisfied: charset-normalizer<4,>=2 in c:\\users\\oyo\\anaconda3\\lib\\site-packages (from requests->webdriver_manager) (3.3.0)\n",
      "Requirement already satisfied: certifi>=2017.4.17 in c:\\users\\oyo\\anaconda3\\lib\\site-packages (from requests->webdriver_manager) (2023.7.22)\n",
      "Requirement already satisfied: idna<4,>=2.5 in c:\\users\\oyo\\anaconda3\\lib\\site-packages (from requests->webdriver_manager) (2.10)\n"
     ]
    },
    {
     "name": "stderr",
     "output_type": "stream",
     "text": [
      "<ipython-input-1-b07bc158e779>:19: DeprecationWarning: Firefox will soon stop logging to geckodriver.log by default; Specify desired logs with log_output\n",
      "  driver = webdriver.Firefox(service=Service(GeckoDriverManager().install()), options = firefox_options)\n",
      "<ipython-input-1-b07bc158e779>:24: DeprecationWarning: Firefox will soon stop logging to geckodriver.log by default; Specify desired logs with log_output\n",
      "  driver = webdriver.Firefox(service=Service(GeckoDriverManager().install()), options = firefox_options)\n"
     ]
    }
   ],
   "source": [
    "!pip install selenium\n",
    "!pip3 install webdriver_manager\n",
    "from bs4 import BeautifulSoup as bs\n",
    "from selenium import webdriver\n",
    "from selenium.webdriver.firefox.options import Options\n",
    "from selenium.webdriver.common.by import By\n",
    "from selenium.webdriver.support.wait import WebDriverWait\n",
    "from selenium.webdriver.support import expected_conditions as EC\n",
    "from selenium.webdriver.firefox.service import Service\n",
    "from webdriver_manager.firefox import GeckoDriverManager\n",
    "import time\n",
    "import random\n",
    "\n",
    "firefox_options = Options()\n",
    "#firefox_options.add_argument('--headless')\n",
    "firefox_options.add_argument('--no-sandbox')\n",
    "firefox_options.add_argument('--disable-dev-shm-usage')\n",
    "\n",
    "driver = webdriver.Firefox(service=Service(GeckoDriverManager().install()), options = firefox_options)\n",
    "\n",
    "time.sleep(3)\n",
    "driver.quit()\n",
    "\n",
    "driver = webdriver.Firefox(service=Service(GeckoDriverManager().install()), options = firefox_options)\n",
    "\n",
    "\n",
    "links=['https://www.amazon.com/Introducing-Amazon-Soundbar-speaker-Virtual/dp/B0C4BZ28PG/ref=sr_1_1_ffob_sspa?crid=2Y4CBW4BKU6PQ&keywords=TV+speakers&qid=1701384482&sprefix=tv+speakers%2Caps%2C161&sr=8-1-spons&sp_csd=d2lkZ2V0TmFtZT1zcF9hdGY&psc=1','https://www.amazon.com/Articulating-Extension-Rotation-200x200mm-Pipishell/dp/B07SHFPD8S/ref=pd_bxgy_img_d_sccl_1/138-9846321-7480036?pd_rd_w=i3ap5&content-id=amzn1.sym.7746dde5-5539-43d2-b75f-28935d70f100&pf_rd_p=7746dde5-5539-43d2-b75f-28935d70f100&pf_rd_r=VHS2CYQ5WT38Y6GXSBBM&pd_rd_wg=JN2bB&pd_rd_r=f29fbf3b-cda8-433f-8299-2e5d802602e3&pd_rd_i=B07SHFPD8S&psc=1','https://www.amazon.com/fire-tv-stick-with-3rd-gen-alexa-voice-remote/dp/B08C1W5N87/ref=pd_bxgy_img_d_sccl_2/138-9846321-7480036?pd_rd_w=i3ap5&content-id=amzn1.sym.7746dde5-5539-43d2-b75f-28935d70f100&pf_rd_p=7746dde5-5539-43d2-b75f-28935d70f100&pf_rd_r=VHS2CYQ5WT38Y6GXSBBM&pd_rd_wg=JN2bB&pd_rd_r=f29fbf3b-cda8-433f-8299-2e5d802602e3&pd_rd_i=B08C1W5N87&psc=1','https://www.amazon.com/YITAHOME-Farmhouse-Highboy-Entertainment-Barnwood/dp/B09J57CKK3/ref=sr_1_13_sspa?crid=2QN1WP0MU49O3&keywords=TV%2Bstand&qid=1701387030&sprefix=tv%2Bstand%2Caps%2C128&sr=8-13-spons&ufe=app_do%3Aamzn1.fos.17d9e15d-4e43-4581-b373-0e5c1a776d5d&sp_csd=d2lkZ2V0TmFtZT1zcF9tdGY&th=1','https://www.amazon.com/JUMMICO-Farmhouse-Century-Entertainment-Cabinets/dp/B09SHDQYT7/ref=pd_ci_mcx_mh_pd_ci_mcx_mh_di_int_sccai_mh_cn_3?pd_rd_w=JVVuP&content-id=amzn1.sym.21bccbff-ebbe-4367-b174-98ab8156619b&pf_rd_p=21bccbff-ebbe-4367-b174-98ab8156619b&pf_rd_r=CKSHAX98TMY308DDHCDK&pd_rd_wg=ybU7P&pd_rd_r=789b213e-b6da-4d7a-839b-6c1f28f6cada&pd_rd_i=B09SHDQYT7&th=1','https://www.amazon.com/USX-MOUNT-TVs-Fits-600x400mm-Weight-Capacity/dp/B07CXF452P/ref=sr_1_4?crid=YY4G95HI6UAR&keywords=wall+mount+tv&qid=1701392528&s=home-garden&sprefix=wall+mounttv%2Cgarden%2C180&sr=1-4','https://www.amazon.com/Newest-Universal-Control-Samsung-Replacement/dp/B07ZQK4GF4/ref=sr_1_3?keywords=TV+remote&qid=1701392630&sr=8-3','https://www.amazon.com/Sony-Speaker-Integrated-Bluetooth-HTS100F/dp/B0797MY6JB/ref=sr_1_3?crid=33YQDL53KHNK7&keywords=soundbars&qid=1701392780&sprefix=soundbars%2Caps%2C132&sr=8-3','https://www.amazon.com/Antenna-Channels-Support-Booster-Outdoor/dp/B0CLNKYXC1/ref=sr_1_2_sspa?crid=3PAJKI7H6PMHR&keywords=tv+antenna&qid=1701392864&sprefix=TV%2Caps%2C187&sr=8-2-spons&sp_csd=d2lkZ2V0TmFtZT1zcF9hdGY&psc=1','https://www.amazon.com/Universal-Stand-Adjustable-Management-400x400mm/dp/B08V4RF89G/ref=sr_1_6?crid=M2LGJD4HHA52&keywords=tv+stand&qid=1701393034&sprefix=tv+%2Caps%2C144&sr=8-6']\n",
    "name=[]\n",
    "document=[]\n",
    "for i in links:\n",
    "    driver.get(i)\n",
    "    html = driver.page_source \n",
    "    soup = bs(html, 'html.parser')\n",
    "    doc=[]\n",
    "    name.append(soup.find_all('span',id=\"productTitle\")[0].get_text().strip())\n",
    "    for i in soup.find_all('li',class_=\"a-spacing-mini\"):\n",
    "        doc.append(i.get_text().strip())\n",
    "    document.append(\"\".join(doc))"
   ]
  },
  {
   "cell_type": "code",
   "execution_count": 2,
   "id": "6d18cb57",
   "metadata": {},
   "outputs": [
    {
     "name": "stdout",
     "output_type": "stream",
     "text": [
      "CSV file \"C:/Users/oyo/Desktop/AUD/Amazon.csv\" has been created.\n"
     ]
    }
   ],
   "source": [
    "import csv\n",
    "data = list(zip(name, document))\n",
    "\n",
    "# Specify the CSV file path\n",
    "csv_file_path = 'C:/Users/oyo/Desktop/AUD/Amazon.csv'\n",
    "\n",
    "# Write data to CSV file\n",
    "with open(csv_file_path, 'w', newline='', encoding='utf-8') as csv_file:\n",
    "    csv_writer = csv.writer(csv_file)\n",
    "    \n",
    "    # Write header\n",
    "    csv_writer.writerow(['name', 'description'])\n",
    "    \n",
    "    # Write data rows\n",
    "    csv_writer.writerows(data)\n",
    "\n",
    "print(f'CSV file \"{csv_file_path}\" has been created.')"
   ]
  },
  {
   "cell_type": "code",
   "execution_count": null,
   "id": "73458f2b",
   "metadata": {},
   "outputs": [],
   "source": []
  }
 ],
 "metadata": {
  "kernelspec": {
   "display_name": "Python 3",
   "language": "python",
   "name": "python3"
  },
  "language_info": {
   "codemirror_mode": {
    "name": "ipython",
    "version": 3
   },
   "file_extension": ".py",
   "mimetype": "text/x-python",
   "name": "python",
   "nbconvert_exporter": "python",
   "pygments_lexer": "ipython3",
   "version": "3.8.8"
  }
 },
 "nbformat": 4,
 "nbformat_minor": 5
}
