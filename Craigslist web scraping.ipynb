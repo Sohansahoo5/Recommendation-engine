{
 "cells": [
  {
   "cell_type": "code",
   "execution_count": 2,
   "id": "6648570e",
   "metadata": {},
   "outputs": [
    {
     "name": "stdout",
     "output_type": "stream",
     "text": [
      "Requirement already satisfied: selenium in c:\\users\\pc\\anaconda3\\lib\\site-packages (4.12.0)\n",
      "Requirement already satisfied: urllib3[socks]<3,>=1.26 in c:\\users\\pc\\anaconda3\\lib\\site-packages (from selenium) (1.26.16)\n",
      "Requirement already satisfied: trio~=0.17 in c:\\users\\pc\\anaconda3\\lib\\site-packages (from selenium) (0.22.2)\n",
      "Requirement already satisfied: trio-websocket~=0.9 in c:\\users\\pc\\anaconda3\\lib\\site-packages (from selenium) (0.10.4)\n",
      "Requirement already satisfied: certifi>=2021.10.8 in c:\\users\\pc\\anaconda3\\lib\\site-packages (from selenium) (2023.7.22)\n",
      "Requirement already satisfied: attrs>=20.1.0 in c:\\users\\pc\\anaconda3\\lib\\site-packages (from trio~=0.17->selenium) (22.1.0)\n",
      "Requirement already satisfied: sortedcontainers in c:\\users\\pc\\anaconda3\\lib\\site-packages (from trio~=0.17->selenium) (2.4.0)\n",
      "Requirement already satisfied: idna in c:\\users\\pc\\anaconda3\\lib\\site-packages (from trio~=0.17->selenium) (3.4)\n",
      "Requirement already satisfied: outcome in c:\\users\\pc\\anaconda3\\lib\\site-packages (from trio~=0.17->selenium) (1.2.0)\n",
      "Requirement already satisfied: sniffio in c:\\users\\pc\\anaconda3\\lib\\site-packages (from trio~=0.17->selenium) (1.2.0)\n",
      "Requirement already satisfied: cffi>=1.14 in c:\\users\\pc\\anaconda3\\lib\\site-packages (from trio~=0.17->selenium) (1.15.1)\n",
      "Requirement already satisfied: exceptiongroup in c:\\users\\pc\\anaconda3\\lib\\site-packages (from trio-websocket~=0.9->selenium) (1.1.3)\n",
      "Requirement already satisfied: wsproto>=0.14 in c:\\users\\pc\\anaconda3\\lib\\site-packages (from trio-websocket~=0.9->selenium) (1.2.0)\n",
      "Requirement already satisfied: PySocks!=1.5.7,<2.0,>=1.5.6 in c:\\users\\pc\\anaconda3\\lib\\site-packages (from urllib3[socks]<3,>=1.26->selenium) (1.7.1)\n",
      "Requirement already satisfied: pycparser in c:\\users\\pc\\anaconda3\\lib\\site-packages (from cffi>=1.14->trio~=0.17->selenium) (2.21)\n",
      "Requirement already satisfied: h11<1,>=0.9.0 in c:\\users\\pc\\anaconda3\\lib\\site-packages (from wsproto>=0.14->trio-websocket~=0.9->selenium) (0.14.0)\n"
     ]
    }
   ],
   "source": [
    "!pip install selenium"
   ]
  },
  {
   "cell_type": "code",
   "execution_count": 4,
   "id": "d0a86e27",
   "metadata": {},
   "outputs": [
    {
     "name": "stdout",
     "output_type": "stream",
     "text": [
      "Requirement already satisfied: webdriver_manager in c:\\users\\pc\\anaconda3\\lib\\site-packages (4.0.0)\n",
      "Requirement already satisfied: requests in c:\\users\\pc\\anaconda3\\lib\\site-packages (from webdriver_manager) (2.31.0)\n",
      "Requirement already satisfied: python-dotenv in c:\\users\\pc\\anaconda3\\lib\\site-packages (from webdriver_manager) (0.21.0)\n",
      "Requirement already satisfied: packaging in c:\\users\\pc\\anaconda3\\lib\\site-packages (from webdriver_manager) (23.0)\n",
      "Requirement already satisfied: charset-normalizer<4,>=2 in c:\\users\\pc\\anaconda3\\lib\\site-packages (from requests->webdriver_manager) (2.0.4)\n",
      "Requirement already satisfied: idna<4,>=2.5 in c:\\users\\pc\\anaconda3\\lib\\site-packages (from requests->webdriver_manager) (3.4)\n",
      "Requirement already satisfied: urllib3<3,>=1.21.1 in c:\\users\\pc\\anaconda3\\lib\\site-packages (from requests->webdriver_manager) (1.26.16)\n",
      "Requirement already satisfied: certifi>=2017.4.17 in c:\\users\\pc\\anaconda3\\lib\\site-packages (from requests->webdriver_manager) (2023.7.22)\n"
     ]
    }
   ],
   "source": [
    "!pip3 install webdriver_manager"
   ]
  },
  {
   "cell_type": "code",
   "execution_count": 3,
   "id": "fcbd68bb",
   "metadata": {},
   "outputs": [
    {
     "name": "stderr",
     "output_type": "stream",
     "text": [
      "C:\\Users\\PC\\AppData\\Local\\Temp\\ipykernel_9200\\3725014110.py:11: DeprecationWarning: Firefox will soon stop logging to geckodriver.log by default; Specify desired logs with log_output\n",
      "  driver = webdriver.Firefox(service=Service(GeckoDriverManager().install()), options=firefox_options)\n"
     ]
    }
   ],
   "source": [
    "from selenium import webdriver\n",
    "from selenium.webdriver.common.by import By\n",
    "import time\n",
    "import csv\n",
    "# Setup the WebDriver (using Firefox in this example)\n",
    "from selenium.webdriver.firefox.service import Service\n",
    "from webdriver_manager.firefox import GeckoDriverManager\n",
    "from selenium.webdriver.firefox.options import Options\n",
    "firefox_options = Options()\n",
    "driver = webdriver.Firefox(service=Service(GeckoDriverManager().install()), options=firefox_options)\n",
    "\n",
    "# Open the Craigslist furniture listing page\n",
    "url = 'https://indianapolis.craigslist.org/search/ela?query=tv#search=1~gallery~0~0'\n",
    "driver.get(url)\n",
    "\n",
    "def get_product_names_categories_descriptions_conditions_placenames_regions_geo_positions_icbms_postids_and_posted_dates():\n",
    "    product_info = []\n",
    "    \n",
    "    # Wait for the page to load\n",
    "    time.sleep(5)\n",
    "    \n",
    "    # Find all product name elements on the current page\n",
    "    product_name_elements = driver.find_elements(By.XPATH, \"//a[contains(@class, 'cl-app-anchor text-only posting-title')]\")\n",
    "    \n",
    "    for element in product_name_elements:\n",
    "        product_name = element.find_element(By.CLASS_NAME, 'label').text\n",
    "        product_type = 'TV' if 'TV' in product_name.upper() else 'NonTV'\n",
    "        # Get the link to the product's detail page\n",
    "        product_link = element.get_attribute('href')\n",
    "        # Open the product's detail page in a new tab\n",
    "        driver.execute_script(\"window.open(arguments[0]);\", product_link)\n",
    "        driver.switch_to.window(driver.window_handles[1])\n",
    "        # Wait for the detail page to load\n",
    "        time.sleep(3)\n",
    "        # Find the description element and extract the text\n",
    "        description_element = driver.find_element(By.ID, 'postingbody')\n",
    "        description_text = description_element.text\n",
    "        \n",
    "        # Try to find the condition element and extract the text\n",
    "        try:\n",
    "            condition_element = driver.find_element(By.XPATH, \"//p[@class='attrgroup']/span/b\")\n",
    "            condition_text = condition_element.text\n",
    "        except:\n",
    "            condition_text = \"Not specified\"  # Use a placeholder if the condition is not found\n",
    "\n",
    "        # Try to find the geo.placename, geo.region, geo.position, ICBM, and post id elements and extract the content\n",
    "        try:\n",
    "            placename_element = driver.find_element(By.XPATH, \"//meta[@name='geo.placename']\")\n",
    "            placename = placename_element.get_attribute('content')\n",
    "        except:\n",
    "            placename = \"Not specified\"  # Use a placeholder if the placename is not found\n",
    "\n",
    "        try:\n",
    "            region_element = driver.find_element(By.XPATH, \"//meta[@name='geo.region']\")\n",
    "            region = region_element.get_attribute('content')\n",
    "        except:\n",
    "            region = \"Not specified\"  # Use a placeholder if the region is not found\n",
    "\n",
    "        try:\n",
    "            geo_position_element = driver.find_element(By.XPATH, \"//meta[@name='geo.position']\")\n",
    "            geo_position = geo_position_element.get_attribute('content')\n",
    "        except:\n",
    "            geo_position = \"Not specified\"  # Use a placeholder if the geo.position is not found\n",
    "\n",
    "        try:\n",
    "            icbm_element = driver.find_element(By.XPATH, \"//meta[@name='ICBM']\")\n",
    "            icbm = icbm_element.get_attribute('content')\n",
    "        except:\n",
    "            icbm = \"Not specified\"  # Use a placeholder if the ICBM is not found\n",
    "\n",
    "        # Try to find the post id element and extract the content\n",
    "        try:\n",
    "            post_id_element = driver.find_element(By.XPATH, \"//p[contains(@class, 'postinginfo') and contains(text(), 'post id:')]\")\n",
    "            post_id_text = post_id_element.text.split(': ')[1]  # Assuming the format is \"post id: 1234567890\"\n",
    "        except:\n",
    "            post_id_text = \"Not specified\"  # Use a placeholder if the post id is not found\n",
    "\n",
    "        # Try to find the posted date element and extract the datetime attribute\n",
    "        try:\n",
    "            posted_date_element = driver.find_element(By.CLASS_NAME, 'timeago')\n",
    "            posted_date = posted_date_element.get_attribute('datetime')\n",
    "        except:\n",
    "            posted_date = \"Not specified\"  # Use a placeholder if the posted date is not found\n",
    "        \n",
    "        # Append product name, category, product type, description, condition, placename, region, geo position, icbm, post id, and posted date\n",
    "        product_info.append([product_name, 'Electronics', product_type, description_text, condition_text, placename, region, geo_position, icbm, post_id_text, posted_date])\n",
    "        \n",
    "        # Close the detail tab and switch back to the main window\n",
    "        driver.close()\n",
    "        driver.switch_to.window(driver.window_handles[0])\n",
    "        \n",
    "        # Wait a bit before scraping the next product to avoid being rate-limited\n",
    "        time.sleep(1)\n",
    "    \n",
    "    return product_info\n",
    "\n",
    "# Extract product names, category, type, description, condition, placename, region, geo position, icbm, post id, and posted date\n",
    "product_info = get_product_names_categories_descriptions_conditions_placenames_regions_geo_positions_icbms_postids_and_posted_dates()\n",
    "\n",
    "# Optional: Write the product names, category, type, description, condition, placename, region, geo position, icbm, post id, and posted date to a CSV file\n",
    "with open('craigslist_Electronics_product.csv', 'w', newline='', encoding='utf-8') as file:\n",
    "    writer = csv.writer(file)\n",
    "    writer.writerow(['Product Name', 'Category', 'Type', 'Description', 'Condition', 'Place Name', 'Region', 'Geo Position', 'ICBM', 'Post ID', 'Posted Date'])  # Write header\n",
    "    for item in product_info:\n",
    "        writer.writerow(item)\n",
    "\n",
    "# Close the browser\n",
    "driver.quit()\n"
   ]
  }
 ],
 "metadata": {
  "kernelspec": {
   "display_name": "Python 3 (ipykernel)",
   "language": "python",
   "name": "python3"
  },
  "language_info": {
   "codemirror_mode": {
    "name": "ipython",
    "version": 3
   },
   "file_extension": ".py",
   "mimetype": "text/x-python",
   "name": "python",
   "nbconvert_exporter": "python",
   "pygments_lexer": "ipython3",
   "version": "3.11.4"
  }
 },
 "nbformat": 4,
 "nbformat_minor": 5
}
